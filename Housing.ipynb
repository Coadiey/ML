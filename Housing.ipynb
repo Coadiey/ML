{
 "cells": [
  {
   "cell_type": "code",
   "execution_count": 1,
   "metadata": {},
   "outputs": [
    {
     "data": {
      "text/plain": [
       "<Figure size 2000x1500 with 9 Axes>"
      ]
     },
     "metadata": {},
     "output_type": "display_data"
    },
    {
     "data": {
      "text/plain": [
       "median_house_value          1.000000\n",
       "median_income               0.687160\n",
       "rooms_per_household         0.146285\n",
       "total_rooms                 0.135097\n",
       "housing_median_age          0.114110\n",
       "households                  0.064506\n",
       "total_bedrooms              0.047689\n",
       "population_per_household   -0.021985\n",
       "population                 -0.026920\n",
       "longitude                  -0.047432\n",
       "latitude                   -0.142724\n",
       "bedrooms_per_room          -0.259984\n",
       "Name: median_house_value, dtype: float64"
      ]
     },
     "execution_count": 1,
     "metadata": {},
     "output_type": "execute_result"
    }
   ],
   "source": [
    "import os\n",
    "import tarfile \n",
    "import urllib \n",
    "DOWNLOAD_ROOT = \"https://raw.githubusercontent.com/ageron/handson-ml2/master/\" \n",
    "HOUSING_PATH = os.path.join(\"datasets\", \"housing\") \n",
    "HOUSING_URL = DOWNLOAD_ROOT + \"datasets/housing/housing.tgz\" \n",
    "def fetch_housing_data( housing_url = HOUSING_URL, housing_path = HOUSING_PATH): \n",
    "    os.makedirs(housing_path, exist_ok = True) \n",
    "    tgz_path = os.path.join(housing_path, \"housing.tgz\") \n",
    "    urllib.request.urlretrieve(housing_url, tgz_path) \n",
    "    housing_tgz = tarfile.open(tgz_path)\n",
    "    housing_tgz.extractall(path=housing_path)\n",
    "    housing_tgz.close()    \n",
    "fetch_housing_data()\n",
    "\n",
    "import pandas as pd\n",
    "def load_housing_data(housing_path=HOUSING_PATH):\n",
    "    csv_path = os.path.join(housing_path, \"housing.csv\")\n",
    "    return pd.read_csv(csv_path)\n",
    "housing = load_housing_data()\n",
    "#housing.head()\n",
    "#housing.info()\n",
    "#housing[\"ocean_proximity\"].value_counts()\n",
    "#housing.describe()\n",
    "import matplotlib.pyplot as plt\n",
    "housing.hist(bins=50, figsize=(20,15))\n",
    "plt.show()\n",
    "\n",
    "import numpy as np\n",
    "\n",
    "def split_train_test(data, test_ratio):\n",
    "    shuffled_indices = np.random.permutation(len(data))\n",
    "    test_set_size = int(len(data) * test_ratio)\n",
    "    test_indices = shuffled_indices[:test_set_size]\n",
    "    train_indices = shuffled_indices[test_set_size:]\n",
    "    return data.iloc[train_indices], data.iloc[test_indices]\n",
    "\n",
    "train_set, test_set = split_train_test(housing, 0.2)\n",
    "#len(train_set)\n",
    "#len(test_set)\n",
    "\n",
    "from zlib import crc32\n",
    "\n",
    "def test_set_check(identifier, test_ratio):\n",
    "    return crc32(np.int64(identifier)) & 0xffffffff < test_ratio * 2**32\n",
    "\n",
    "def split_train_test_by_id(data, test_ratio, id_column):\n",
    "    ids = data[id_column]\n",
    "    in_test_set = ids.apply(lambda id_: test_set_check(id_, test_ratio))\n",
    "    return data.loc[~in_test_set], data.loc[in_test_set]\n",
    "\n",
    "\"\"\"\n",
    "housing_with_id = housing.reset_index() #adds an 'index' column\n",
    "housing_with_id[\"id\"] = housing[\"longitude\"] * 1000 + housing[\"latitude\"]\n",
    "train_set, test_set = split_train_test_by_id(housing_with_id, 0.2, \"index\")\n",
    "\"\"\"\n",
    "\n",
    "# Does the same thing as function above with additional features like random_stat parameter allows generator seed\n",
    "from sklearn.model_selection import train_test_split\n",
    "\n",
    "train_set, test_set = train_test_split(housing, test_size=0.2, random_state=42)\n",
    "\n",
    "housing[\"income_cat\"] = pd.cut(housing[\"median_income\"], bins=[0., 1.5, 3.0, 4.5, 6., np.inf], labels=[1,2,3,4,5])\n",
    "housing[\"income_cat\"].hist()\n",
    "\n",
    "from sklearn.model_selection import StratifiedShuffleSplit\n",
    "split = StratifiedShuffleSplit(n_splits=1, test_size=0.2, random_state=42)\n",
    "for train_index, test_index in split.split(housing, housing[\"income_cat\"]):\n",
    "    strat_train_set = housing.loc[train_index]\n",
    "    strat_test_set = housing.loc[test_index]\n",
    "\n",
    "strat_test_set[\"income_cat\"].value_counts() / len(strat_test_set)\n",
    "\n",
    "for set_ in (strat_train_set, strat_test_set):\n",
    "    set_.drop(\"income_cat\", axis=1, inplace=True)\n",
    "\n",
    "housing = strat_train_set.copy()\n",
    "housing.plot(kind=\"scatter\", x=\"longitude\", y=\"latitude\", alpha=0.4, s=housing[\"population\"]/100, \n",
    "             label=\"population\", figsize=(10,7), c=\"median_house_value\", cmap=plt.get_cmap(\"jet\"), colorbar=True,)\n",
    "plt.legend()\n",
    "plt.tight_layout()\n",
    "\n",
    "corr_matrix = housing.corr()\n",
    "corr_matrix[\"median_house_value\"].sort_values(ascending=False)\n",
    "\n",
    "from pandas.plotting import scatter_matrix\n",
    "attributes = [\"median_house_value\", \"median_income\", \"total_rooms\", \"housing_median_age\"]\n",
    "scatter_matrix(housing[attributes], figsize=(12,8))\n",
    "\n",
    "housing.plot(kind=\"scatter\", x=\"median_income\", y=\"median_house_value\", alpha=0.1)\n",
    "\n",
    "housing[\"rooms_per_household\"] = housing[\"total_rooms\"]/housing[\"households\"]\n",
    "housing[\"bedrooms_per_room\"] = housing[\"total_bedrooms\"]/housing[\"total_rooms\"]\n",
    "housing[\"population_per_household\"] = housing[\"population\"]/housing[\"households\"]\n",
    "corr_matrix = housing.corr()\n",
    "corr_matrix[\"median_house_value\"].sort_values(ascending=False)"
   ]
  },
  {
   "cell_type": "code",
   "execution_count": 2,
   "metadata": {},
   "outputs": [],
   "source": [
    "housing = strat_train_set.drop(\"median_house_value\", axis=1,)\n",
    "housing_labels = strat_train_set[\"median_house_value\"].copy()"
   ]
  },
  {
   "cell_type": "code",
   "execution_count": 3,
   "metadata": {},
   "outputs": [
    {
     "data": {
      "text/plain": [
       "array([-118.51  ,   34.26  ,   29.    , 2119.5   ,  433.    , 1164.    ,\n",
       "        408.    ,    3.5409])"
      ]
     },
     "execution_count": 3,
     "metadata": {},
     "output_type": "execute_result"
    }
   ],
   "source": [
    "# Data Cleaning\n",
    "\"\"\"\n",
    "housing.dropna( subset =[\" total_bedrooms\"]) # option 1: Get rid of the corresponding districts\n",
    "housing.drop(\"total_bedrooms\", axis=1) # option 2: Get rid of whole attribute\n",
    "median = housing[\"total_bedrooms\"].median() #option 3: Set the values to some value(zero, the mean, the median,ect)\n",
    "\"\"\"\n",
    "from sklearn.impute import SimpleImputer\n",
    "imputer = SimpleImputer(strategy=\"median\")\n",
    "\n",
    "housing_num = housing.drop(\"ocean_proximity\", axis=1)\n",
    "imputer.fit(housing_num)\n",
    "imputer.statistics_\n",
    "housing_num.median().values"
   ]
  },
  {
   "cell_type": "code",
   "execution_count": 4,
   "metadata": {},
   "outputs": [],
   "source": [
    "X = imputer.transform(housing_num)\n",
    "housing_tr = pd.DataFrame(X, columns=housing_num.columns, index=housing_num.index)"
   ]
  },
  {
   "cell_type": "code",
   "execution_count": 5,
   "metadata": {},
   "outputs": [
    {
     "data": {
      "text/plain": [
       "[array(['<1H OCEAN', 'INLAND', 'ISLAND', 'NEAR BAY', 'NEAR OCEAN'],\n",
       "       dtype=object)]"
      ]
     },
     "execution_count": 5,
     "metadata": {},
     "output_type": "execute_result"
    }
   ],
   "source": [
    "housing_cat = housing[[\"ocean_proximity\"]]\n",
    "#housing_cat.head(10)\n",
    "from sklearn.preprocessing import OrdinalEncoder\n",
    "ordinal_encoder = OrdinalEncoder()\n",
    "housing_cat_encoded = ordinal_encoder.fit_transform(housing_cat)\n",
    "housing_cat_encoded[:10]\n",
    "ordinal_encoder.categories_"
   ]
  },
  {
   "cell_type": "code",
   "execution_count": 6,
   "metadata": {},
   "outputs": [
    {
     "data": {
      "text/plain": [
       "<16512x5 sparse matrix of type '<class 'numpy.float64'>'\n",
       "\twith 16512 stored elements in Compressed Sparse Row format>"
      ]
     },
     "execution_count": 6,
     "metadata": {},
     "output_type": "execute_result"
    }
   ],
   "source": [
    "from sklearn.preprocessing import OneHotEncoder\n",
    "cat_encoder = OneHotEncoder()\n",
    "housing_cat_1hot = cat_encoder.fit_transform(housing_cat)\n",
    "#housing_cat_1hot.toarray()\n",
    "housing_cat_1hot"
   ]
  },
  {
   "cell_type": "code",
   "execution_count": 7,
   "metadata": {},
   "outputs": [],
   "source": [
    "# Custom Transformer; Small transformer class that adds the combined attributes discussed earlier\n",
    "from sklearn.base import BaseEstimator, TransformerMixin\n",
    "rooms_ix, bedrooms_ix, population_ix, households_ix = 3, 4, 5, 6\n",
    "class CombinedAttributesAdder(BaseEstimator, TransformerMixin): \n",
    "    def __init__(self, add_bedrooms_per_room = True):  # no *args or ** kargs \n",
    "        self.add_bedrooms_per_room = add_bedrooms_per_room \n",
    "    def fit( self, X, y = None): return self # nothing else to do \n",
    "    def transform( self, X):\n",
    "        rooms_per_household = X[:, rooms_ix] / X[:, households_ix] \n",
    "        population_per_household = X[:, population_ix] / X[:, households_ix] \n",
    "        # add_bedrooms_per_room is a hyperparameter controlling whether we add this attribute or not\n",
    "        if self.add_bedrooms_per_room: \n",
    "            bedrooms_per_room = X[:, bedrooms_ix] / X[:, rooms_ix] \n",
    "            return np.c_[ X, rooms_per_household, population_per_household, bedrooms_per_room] \n",
    "        else: \n",
    "            return np.c_[ X, rooms_per_household, population_per_household] \n",
    "attr_adder = CombinedAttributesAdder( add_bedrooms_per_room = False)\n",
    "housing_extra_attribs = attr_adder.transform(housing.values) "
   ]
  },
  {
   "cell_type": "code",
   "execution_count": 8,
   "metadata": {},
   "outputs": [],
   "source": [
    "# Transformation pipelines\n",
    "from sklearn.pipeline import Pipeline\n",
    "from sklearn.preprocessing import StandardScaler\n",
    "num_pipeline = Pipeline([\n",
    "        (' imputer', SimpleImputer( strategy =\"median\")), \n",
    "        (' attribs_adder', CombinedAttributesAdder()), \n",
    "        (' std_scaler', StandardScaler()), ]) \n",
    "housing_num_tr = num_pipeline.fit_transform(housing_num)"
   ]
  },
  {
   "cell_type": "code",
   "execution_count": 9,
   "metadata": {},
   "outputs": [],
   "source": [
    "from sklearn.compose import ColumnTransformer \n",
    "num_attribs = list(housing_num) \n",
    "cat_attribs = [\"ocean_proximity\"] \n",
    "full_pipeline = ColumnTransformer([(\"num\", num_pipeline, num_attribs), (\"cat\", OneHotEncoder(), cat_attribs),]) \n",
    "housing_prepared = full_pipeline.fit_transform(housing)"
   ]
  },
  {
   "cell_type": "code",
   "execution_count": 10,
   "metadata": {},
   "outputs": [
    {
     "data": {
      "text/plain": [
       "LinearRegression(copy_X=True, fit_intercept=True, n_jobs=None, normalize=False)"
      ]
     },
     "execution_count": 10,
     "metadata": {},
     "output_type": "execute_result"
    }
   ],
   "source": [
    "# Select and train on the data set\n",
    "from sklearn.linear_model import LinearRegression\n",
    "lin_reg = LinearRegression()\n",
    "lin_reg.fit(housing_prepared, housing_labels)"
   ]
  },
  {
   "cell_type": "code",
   "execution_count": 11,
   "metadata": {},
   "outputs": [
    {
     "name": "stdout",
     "output_type": "stream",
     "text": [
      "Predictions: [210644.60459286 317768.80697211 210956.43331178  59218.98886849\n",
      " 189747.55849879]\n",
      "Labels: [286600.0, 340600.0, 196900.0, 46300.0, 254500.0]\n"
     ]
    }
   ],
   "source": [
    "# trying the training on a few instances of the training set\n",
    "some_data = housing.iloc[:5]\n",
    "some_labels = housing_labels.iloc[:5]\n",
    "some_data_prepared = full_pipeline.transform(some_data)\n",
    "print(\"Predictions:\", lin_reg.predict(some_data_prepared))\n",
    "print(\"Labels:\", list(some_labels))"
   ]
  },
  {
   "cell_type": "code",
   "execution_count": 12,
   "metadata": {},
   "outputs": [
    {
     "data": {
      "text/plain": [
       "68628.19819848923"
      ]
     },
     "execution_count": 12,
     "metadata": {},
     "output_type": "execute_result"
    }
   ],
   "source": [
    "# measuring the regression model's RMSE on the whole training set\n",
    "from sklearn.metrics import mean_squared_error\n",
    "housing_predictions = lin_reg.predict(housing_prepared)\n",
    "lin_mse = mean_squared_error(housing_labels, housing_predictions)\n",
    "lin_rmse = np.sqrt(lin_mse)\n",
    "lin_rmse # how much off the predictions are"
   ]
  },
  {
   "cell_type": "code",
   "execution_count": 13,
   "metadata": {},
   "outputs": [
    {
     "data": {
      "text/plain": [
       "DecisionTreeRegressor(criterion='mse', max_depth=None, max_features=None,\n",
       "                      max_leaf_nodes=None, min_impurity_decrease=0.0,\n",
       "                      min_impurity_split=None, min_samples_leaf=1,\n",
       "                      min_samples_split=2, min_weight_fraction_leaf=0.0,\n",
       "                      presort=False, random_state=None, splitter='best')"
      ]
     },
     "execution_count": 13,
     "metadata": {},
     "output_type": "execute_result"
    }
   ],
   "source": [
    "# DecisionTreeRegressor model which is more powerful\n",
    "from sklearn.tree import DecisionTreeRegressor\n",
    "tree_reg = DecisionTreeRegressor()\n",
    "tree_reg.fit(housing_prepared, housing_labels)"
   ]
  },
  {
   "cell_type": "code",
   "execution_count": 14,
   "metadata": {},
   "outputs": [
    {
     "data": {
      "text/plain": [
       "0.0"
      ]
     },
     "execution_count": 14,
     "metadata": {},
     "output_type": "execute_result"
    }
   ],
   "source": [
    "housing_predictions = tree_reg.predict(housing_prepared)\n",
    "tree_mse = mean_squared_error(housing_labels, housing_predictions)\n",
    "tree_rmse = np.sqrt(tree_mse)\n",
    "tree_rmse # how much off the predictions are"
   ]
  },
  {
   "cell_type": "code",
   "execution_count": 15,
   "metadata": {},
   "outputs": [],
   "source": [
    "# better evaluation with cross evaluation\n",
    "from sklearn.model_selection import cross_val_score\n",
    "scores = cross_val_score(tree_reg, housing_prepared, housing_labels, scoring =\"neg_mean_squared_error\", cv = 10) \n",
    "tree_rmse_scores = np.sqrt(-scores) "
   ]
  },
  {
   "cell_type": "code",
   "execution_count": 16,
   "metadata": {},
   "outputs": [],
   "source": [
    "def display_scores(scores):\n",
    "    print(\"Scores:\", scores)\n",
    "    print(\"Mean:\", scores.mean())\n",
    "    print(\"Standard deviation:\", scores.std()) "
   ]
  },
  {
   "cell_type": "code",
   "execution_count": 17,
   "metadata": {},
   "outputs": [
    {
     "name": "stdout",
     "output_type": "stream",
     "text": [
      "Scores: [69238.8754295  67086.16158399 72188.15345757 69696.62749101\n",
      " 69787.90846948 74797.16057015 71747.89629623 71114.01348053\n",
      " 76177.21842724 71714.6589164 ]\n",
      "Mean: 71354.86741221012\n",
      "Standard deviation: 2530.7141454633347\n"
     ]
    }
   ],
   "source": [
    "display_scores(tree_rmse_scores)"
   ]
  },
  {
   "cell_type": "code",
   "execution_count": 18,
   "metadata": {},
   "outputs": [
    {
     "name": "stdout",
     "output_type": "stream",
     "text": [
      "Scores: [66782.73843989 66960.118071   70347.95244419 74739.57052552\n",
      " 68031.13388938 71193.84183426 64969.63056405 68281.61137997\n",
      " 71552.91566558 67665.10082067]\n",
      "Mean: 69052.46136345083\n",
      "Standard deviation: 2731.6740017983493\n"
     ]
    }
   ],
   "source": [
    "lin_scores = cross_val_score(lin_reg, housing_prepared, housing_labels, scoring =\"neg_mean_squared_error\", cv = 10)\n",
    "lin_rmse_scores = np.sqrt(-lin_scores)\n",
    "display_scores(lin_rmse_scores)"
   ]
  },
  {
   "cell_type": "code",
   "execution_count": 19,
   "metadata": {},
   "outputs": [
    {
     "name": "stderr",
     "output_type": "stream",
     "text": [
      "C:\\ProgramData\\Anaconda3\\lib\\site-packages\\sklearn\\ensemble\\forest.py:245: FutureWarning: The default value of n_estimators will change from 10 in version 0.20 to 100 in 0.22.\n",
      "  \"10 in version 0.20 to 100 in 0.22.\", FutureWarning)\n"
     ]
    },
    {
     "data": {
      "text/plain": [
       "RandomForestRegressor(bootstrap=True, criterion='mse', max_depth=None,\n",
       "                      max_features='auto', max_leaf_nodes=None,\n",
       "                      min_impurity_decrease=0.0, min_impurity_split=None,\n",
       "                      min_samples_leaf=1, min_samples_split=2,\n",
       "                      min_weight_fraction_leaf=0.0, n_estimators=10,\n",
       "                      n_jobs=None, oob_score=False, random_state=None,\n",
       "                      verbose=0, warm_start=False)"
      ]
     },
     "execution_count": 19,
     "metadata": {},
     "output_type": "execute_result"
    }
   ],
   "source": [
    "# Random Forest Regressor model\n",
    "from sklearn.ensemble import RandomForestRegressor\n",
    "forest_reg = RandomForestRegressor()\n",
    "forest_reg.fit(housing_prepared, housing_labels)"
   ]
  },
  {
   "cell_type": "code",
   "execution_count": 20,
   "metadata": {},
   "outputs": [
    {
     "name": "stdout",
     "output_type": "stream",
     "text": [
      "Scores: [52043.17116335 51423.90316831 53585.59107417 53939.80126411\n",
      " 52738.59112243 56332.3000374  50857.06136825 50341.80047545\n",
      " 55445.13121956 52159.15242388]\n",
      "Mean: 52886.65033169356\n",
      "Standard deviation: 1844.2810158446498\n"
     ]
    }
   ],
   "source": [
    "housing_predictions = forest_reg.predict(housing_prepared)\n",
    "forest_mse = mean_squared_error(housing_labels, housing_predictions)\n",
    "forest_rmse = np.sqrt(forest_mse)\n",
    "forest_rmse\n",
    "\n",
    "forest_scores = cross_val_score(forest_reg, housing_prepared, housing_labels, scoring=\"neg_mean_squared_error\", cv=10)\n",
    "forest_rmse_scores = np.sqrt(-forest_scores)\n",
    "display_scores(forest_rmse_scores)\n",
    "# you should save your model, but not going to do it rn. page 75 in book."
   ]
  },
  {
   "cell_type": "code",
   "execution_count": 21,
   "metadata": {},
   "outputs": [
    {
     "data": {
      "text/plain": [
       "GridSearchCV(cv=5, error_score='raise-deprecating',\n",
       "             estimator=RandomForestRegressor(bootstrap=True, criterion='mse',\n",
       "                                             max_depth=None,\n",
       "                                             max_features='auto',\n",
       "                                             max_leaf_nodes=None,\n",
       "                                             min_impurity_decrease=0.0,\n",
       "                                             min_impurity_split=None,\n",
       "                                             min_samples_leaf=1,\n",
       "                                             min_samples_split=2,\n",
       "                                             min_weight_fraction_leaf=0.0,\n",
       "                                             n_estimators='warn', n_jobs=None,\n",
       "                                             oob_score=False, random_state=42,\n",
       "                                             verbose=0, warm_start=False),\n",
       "             iid='warn', n_jobs=None,\n",
       "             param_grid=[{'max_features': [2, 4, 6, 8],\n",
       "                          'n_estimators': [3, 10, 30]},\n",
       "                         {'bootstrap': [False], 'max_features': [2, 3, 4],\n",
       "                          'n_estimators': [3, 10]}],\n",
       "             pre_dispatch='2*n_jobs', refit=True, return_train_score=True,\n",
       "             scoring='neg_mean_squared_error', verbose=0)"
      ]
     },
     "execution_count": 21,
     "metadata": {},
     "output_type": "execute_result"
    }
   ],
   "source": [
    "from sklearn.model_selection import GridSearchCV\n",
    "\n",
    "param_grid = [\n",
    "    # try 12 (3×4) combinations of hyperparameters\n",
    "    {'n_estimators': [3, 10, 30], 'max_features': [2, 4, 6, 8]},\n",
    "    # then try 6 (2×3) combinations with bootstrap set as False\n",
    "    {'bootstrap': [False], 'n_estimators': [3, 10], 'max_features': [2, 3, 4]},\n",
    "  ]\n",
    "\n",
    "forest_reg = RandomForestRegressor(random_state=42)\n",
    "# train across 5 folds, that's a total of (12+6)*5=90 rounds of training \n",
    "grid_search = GridSearchCV(forest_reg, param_grid, cv=5,\n",
    "                           scoring='neg_mean_squared_error',\n",
    "                           return_train_score=True)\n",
    "grid_search.fit(housing_prepared, housing_labels)"
   ]
  },
  {
   "cell_type": "code",
   "execution_count": 22,
   "metadata": {},
   "outputs": [
    {
     "data": {
      "text/plain": [
       "{'max_features': 8, 'n_estimators': 30}"
      ]
     },
     "execution_count": 22,
     "metadata": {},
     "output_type": "execute_result"
    }
   ],
   "source": [
    "grid_search.best_params_"
   ]
  },
  {
   "cell_type": "code",
   "execution_count": 23,
   "metadata": {},
   "outputs": [
    {
     "data": {
      "text/plain": [
       "RandomForestRegressor(bootstrap=True, criterion='mse', max_depth=None,\n",
       "                      max_features=8, max_leaf_nodes=None,\n",
       "                      min_impurity_decrease=0.0, min_impurity_split=None,\n",
       "                      min_samples_leaf=1, min_samples_split=2,\n",
       "                      min_weight_fraction_leaf=0.0, n_estimators=30,\n",
       "                      n_jobs=None, oob_score=False, random_state=42, verbose=0,\n",
       "                      warm_start=False)"
      ]
     },
     "execution_count": 23,
     "metadata": {},
     "output_type": "execute_result"
    }
   ],
   "source": [
    "grid_search.best_estimator_"
   ]
  },
  {
   "cell_type": "code",
   "execution_count": 24,
   "metadata": {},
   "outputs": [
    {
     "name": "stdout",
     "output_type": "stream",
     "text": [
      "63669.05791727153 {'max_features': 2, 'n_estimators': 3}\n",
      "55627.16171305252 {'max_features': 2, 'n_estimators': 10}\n",
      "53384.57867637289 {'max_features': 2, 'n_estimators': 30}\n",
      "60965.99185930139 {'max_features': 4, 'n_estimators': 3}\n",
      "52740.98248528835 {'max_features': 4, 'n_estimators': 10}\n",
      "50377.344409590376 {'max_features': 4, 'n_estimators': 30}\n",
      "58663.84733372485 {'max_features': 6, 'n_estimators': 3}\n",
      "52006.15355973719 {'max_features': 6, 'n_estimators': 10}\n",
      "50146.465964159885 {'max_features': 6, 'n_estimators': 30}\n",
      "57869.25504027614 {'max_features': 8, 'n_estimators': 3}\n",
      "51711.09443660957 {'max_features': 8, 'n_estimators': 10}\n",
      "49682.25345942335 {'max_features': 8, 'n_estimators': 30}\n",
      "62895.088889905004 {'bootstrap': False, 'max_features': 2, 'n_estimators': 3}\n",
      "54658.14484390074 {'bootstrap': False, 'max_features': 2, 'n_estimators': 10}\n",
      "59470.399594730654 {'bootstrap': False, 'max_features': 3, 'n_estimators': 3}\n",
      "52725.01091081235 {'bootstrap': False, 'max_features': 3, 'n_estimators': 10}\n",
      "57490.612956065226 {'bootstrap': False, 'max_features': 4, 'n_estimators': 3}\n",
      "51009.51445842374 {'bootstrap': False, 'max_features': 4, 'n_estimators': 10}\n"
     ]
    }
   ],
   "source": [
    "cvres = grid_search.cv_results_\n",
    "for mean_score, params in zip(cvres[\"mean_test_score\"], cvres[\"params\"]):\n",
    "    print(np.sqrt(-mean_score), params)    "
   ]
  },
  {
   "cell_type": "code",
   "execution_count": 25,
   "metadata": {},
   "outputs": [
    {
     "data": {
      "text/plain": [
       "47730.22690385927"
      ]
     },
     "execution_count": 25,
     "metadata": {},
     "output_type": "execute_result"
    }
   ],
   "source": [
    "final_model = grid_search.best_estimator_\n",
    "\n",
    "X_test = strat_test_set.drop(\"median_house_value\", axis=1)\n",
    "y_test = strat_test_set[\"median_house_value\"].copy()\n",
    "\n",
    "X_test_prepared = full_pipeline.transform(X_test)\n",
    "final_predictions = final_model.predict(X_test_prepared)\n",
    "\n",
    "final_mse = mean_squared_error(y_test, final_predictions)\n",
    "final_rmse = np.sqrt(final_mse)\n",
    "final_rmse"
   ]
  },
  {
   "cell_type": "code",
   "execution_count": 26,
   "metadata": {},
   "outputs": [
    {
     "data": {
      "text/plain": [
       "array([45685.10470776, 49691.25001878])"
      ]
     },
     "execution_count": 26,
     "metadata": {},
     "output_type": "execute_result"
    }
   ],
   "source": [
    "from scipy import stats\n",
    "\n",
    "confidence = 0.95\n",
    "squared_errors = (final_predictions - y_test) ** 2\n",
    "np.sqrt(stats.t.interval(confidence, len(squared_errors) - 1,\n",
    "                         loc=squared_errors.mean(),\n",
    "                         scale=stats.sem(squared_errors)))"
   ]
  },
  {
   "cell_type": "markdown",
   "metadata": {},
   "source": [
    "**1.** Try a Support Vector Machine regressor (`sklearn.svm.SVR`) with various hyperparameters, such as `kernel = \"linear\"` (with various values for the C hyperparameter) or `kernel = \"rbf\"` (with various values for the C and gamma hyperparameters). Don’t worry about what these hyperparameters mean for now. How does the best SVR predictor perform?"
   ]
  },
  {
   "cell_type": "code",
   "execution_count": 28,
   "metadata": {},
   "outputs": [
    {
     "data": {
      "text/plain": [
       "GridSearchCV(cv=5, error_score='raise-deprecating',\n",
       "             estimator=SVR(C=1.0, cache_size=200, coef0=0.0, degree=3,\n",
       "                           epsilon=0.1, gamma='auto_deprecated', kernel='rbf',\n",
       "                           max_iter=-1, shrinking=True, tol=0.001,\n",
       "                           verbose=False),\n",
       "             iid='warn', n_jobs=None,\n",
       "             param_grid=[{'C': [10.0, 50.0, 100.0, 500.0, 1000.0],\n",
       "                          'kernel': ['linear']},\n",
       "                         {'C': [1, 10.0, 50.0, 100.0, 500.0],\n",
       "                          'gamma': [0.01, 0.03, 0.1, 0.3, 1.0, 3.0],\n",
       "                          'kernel': ['rbf']}],\n",
       "             pre_dispatch='2*n_jobs', refit=True, return_train_score=False,\n",
       "             scoring='neg_mean_squared_error', verbose=0)"
      ]
     },
     "execution_count": 28,
     "metadata": {},
     "output_type": "execute_result"
    }
   ],
   "source": [
    "# Support Vector Machine Regressor with Grid search\n",
    "from sklearn.svm import SVR\n",
    "param_grid = [\n",
    "    # try 5 (1×5) combinations of hyperparameters\n",
    "    {'kernel': ['linear'], 'C': [10.0,50.0,100.0,500.0,1000.0]},\n",
    "    # then try 25 (1x5×5) combinations of hyperparameters\n",
    "    {'kernel': ['rbf'], 'C': [1,10.0,50.0,100.0,500.0], 'gamma': [0.01, 0.03, 0.1, 0.3, 1.0, 3.0]},\n",
    "  ]\n",
    "\n",
    "support_vector_reg = SVR()\n",
    "# train across 5 folds, that's a total of (5+25)*5=150 rounds of training \n",
    "grid_search = GridSearchCV(support_vector_reg, param_grid, cv=5,\n",
    "                           scoring='neg_mean_squared_error')\n",
    "grid_search.fit(housing_prepared, housing_labels)"
   ]
  },
  {
   "cell_type": "code",
   "execution_count": 44,
   "metadata": {},
   "outputs": [
    {
     "name": "stdout",
     "output_type": "stream",
     "text": [
      "Best SVR predictor's performance:  70445.41077712944 \n",
      "\n",
      "84654.0893002138 {'C': 10.0, 'kernel': 'linear'}\n",
      "73235.0217516481 {'C': 50.0, 'kernel': 'linear'}\n",
      "71603.12196479437 {'C': 100.0, 'kernel': 'linear'}\n",
      "70538.40564891648 {'C': 500.0, 'kernel': 'linear'}\n",
      "70445.41077712944 {'C': 1000.0, 'kernel': 'linear'}\n",
      "118810.1205690511 {'C': 1, 'gamma': 0.01, 'kernel': 'rbf'}\n",
      "118692.80532644158 {'C': 1, 'gamma': 0.03, 'kernel': 'rbf'}\n",
      "118637.95452846108 {'C': 1, 'gamma': 0.1, 'kernel': 'rbf'}\n",
      "118768.15436248068 {'C': 1, 'gamma': 0.3, 'kernel': 'rbf'}\n",
      "118886.40095734302 {'C': 1, 'gamma': 1.0, 'kernel': 'rbf'}\n",
      "118916.0277544163 {'C': 1, 'gamma': 3.0, 'kernel': 'rbf'}\n",
      "117855.86860610843 {'C': 10.0, 'gamma': 0.01, 'kernel': 'rbf'}\n",
      "116721.30926754372 {'C': 10.0, 'gamma': 0.03, 'kernel': 'rbf'}\n",
      "116179.73058899572 {'C': 10.0, 'gamma': 0.1, 'kernel': 'rbf'}\n",
      "117392.89093611801 {'C': 10.0, 'gamma': 0.3, 'kernel': 'rbf'}\n",
      "118595.3378452412 {'C': 10.0, 'gamma': 1.0, 'kernel': 'rbf'}\n",
      "118880.72530621996 {'C': 10.0, 'gamma': 3.0, 'kernel': 'rbf'}\n",
      "113735.7666244801 {'C': 50.0, 'gamma': 0.01, 'kernel': 'rbf'}\n",
      "108832.66703973846 {'C': 50.0, 'gamma': 0.03, 'kernel': 'rbf'}\n",
      "106665.02309940514 {'C': 50.0, 'gamma': 0.1, 'kernel': 'rbf'}\n",
      "111909.0439844061 {'C': 50.0, 'gamma': 0.3, 'kernel': 'rbf'}\n",
      "117337.01385145733 {'C': 50.0, 'gamma': 1.0, 'kernel': 'rbf'}\n",
      "118672.64290644329 {'C': 50.0, 'gamma': 3.0, 'kernel': 'rbf'}\n",
      "109139.9129448502 {'C': 100.0, 'gamma': 0.01, 'kernel': 'rbf'}\n",
      "100840.68852995447 {'C': 100.0, 'gamma': 0.03, 'kernel': 'rbf'}\n",
      "98578.87492167123 {'C': 100.0, 'gamma': 0.1, 'kernel': 'rbf'}\n",
      "106517.78628279532 {'C': 100.0, 'gamma': 0.3, 'kernel': 'rbf'}\n",
      "115842.43140426329 {'C': 100.0, 'gamma': 1.0, 'kernel': 'rbf'}\n",
      "118405.21796830831 {'C': 100.0, 'gamma': 3.0, 'kernel': 'rbf'}\n",
      "87349.04304982747 {'C': 500.0, 'gamma': 0.01, 'kernel': 'rbf'}\n",
      "78226.88580953333 {'C': 500.0, 'gamma': 0.03, 'kernel': 'rbf'}\n",
      "78743.91458706732 {'C': 500.0, 'gamma': 0.1, 'kernel': 'rbf'}\n",
      "89463.79286178357 {'C': 500.0, 'gamma': 0.3, 'kernel': 'rbf'}\n",
      "107013.94051647386 {'C': 500.0, 'gamma': 1.0, 'kernel': 'rbf'}\n",
      "116467.1718015261 {'C': 500.0, 'gamma': 3.0, 'kernel': 'rbf'}\n"
     ]
    }
   ],
   "source": [
    "mse = -(grid_search.best_score_)\n",
    "rmse = np.sqrt(mse)\n",
    "print(\"Best SVR predictor's performance: \", rmse, '\\n')\n",
    "cvres = grid_search.cv_results_\n",
    "for mean_score, params in zip(cvres[\"mean_test_score\"], cvres[\"params\"]):\n",
    "    print(np.sqrt(-mean_score), params)"
   ]
  },
  {
   "cell_type": "markdown",
   "metadata": {},
   "source": [
    "The final RMSE value was 47730.22690385927 so in comparison this is much worse"
   ]
  },
  {
   "cell_type": "markdown",
   "metadata": {},
   "source": [
    "**2.** Try replacing `GridSearchCV` with `RandomizedSearchCV`."
   ]
  },
  {
   "cell_type": "code",
   "execution_count": 60,
   "metadata": {},
   "outputs": [
    {
     "data": {
      "text/plain": [
       "RandomizedSearchCV(cv=5, error_score='raise-deprecating',\n",
       "                   estimator=SVR(C=1.0, cache_size=200, coef0=0.0, degree=3,\n",
       "                                 epsilon=0.1, gamma='auto_deprecated',\n",
       "                                 kernel='rbf', max_iter=-1, shrinking=True,\n",
       "                                 tol=0.001, verbose=False),\n",
       "                   iid='warn', n_iter=50, n_jobs=None,\n",
       "                   param_distributions={'C': <scipy.stats._distn_infrastructure.rv_frozen object at 0x0000016DAA33FA88>,\n",
       "                                        'gamma': <scipy.stats._distn_infrastructure.rv_frozen object at 0x0000016DAA33FD08>,\n",
       "                                        'kernel': ['linear', 'rbf']},\n",
       "                   pre_dispatch='2*n_jobs', random_state=42, refit=True,\n",
       "                   return_train_score=False, scoring='neg_mean_squared_error',\n",
       "                   verbose=0)"
      ]
     },
     "execution_count": 60,
     "metadata": {},
     "output_type": "execute_result"
    }
   ],
   "source": [
    "# Support Vector Machine Regressor with Random Search\n",
    "from sklearn.model_selection import RandomizedSearchCV\n",
    "from scipy.stats import expon, reciprocal\n",
    "\n",
    "param_dist = {'kernel': ['linear', 'rbf'], 'C': reciprocal(20,200000), 'gamma': expon(scale=1.0)}\n",
    "\n",
    "support_vector_reg = SVR()\n",
    "random_search = RandomizedSearchCV(support_vector_reg, param_distributions=param_dist, cv=5, n_iter=50,\n",
    "                           scoring='neg_mean_squared_error', random_state=42)\n",
    "random_search.fit(housing_prepared, housing_labels)"
   ]
  },
  {
   "cell_type": "code",
   "execution_count": 61,
   "metadata": {},
   "outputs": [
    {
     "name": "stdout",
     "output_type": "stream",
     "text": [
      "Best SVR predictor's performance:  54767.99053704408 \n",
      "\n",
      "70487.73975752539 {'C': 629.782329591372, 'gamma': 3.010121430917521, 'kernel': 'linear'}\n",
      "65151.98496543675 {'C': 26290.206464300216, 'gamma': 0.9084469696321253, 'kernel': 'rbf'}\n",
      "100293.08900577638 {'C': 84.14107900575871, 'gamma': 0.059838768608680676, 'kernel': 'rbf'}\n",
      "70574.11375177321 {'C': 432.37884813148855, 'gamma': 0.15416196746656105, 'kernel': 'linear'}\n",
      "118838.76739914888 {'C': 24.17508294611391, 'gamma': 3.503557475158312, 'kernel': 'rbf'}\n",
      "70029.23360936904 {'C': 113564.03940586245, 'gamma': 0.0007790692366582295, 'kernel': 'rbf'}\n",
      "107662.52814484686 {'C': 108.30488238805073, 'gamma': 0.3627537294604771, 'kernel': 'rbf'}\n",
      "77562.95173075002 {'C': 21.344953672647435, 'gamma': 0.023332523598323388, 'kernel': 'linear'}\n",
      "62578.76510141139 {'C': 5603.270317432516, 'gamma': 0.15023452872733867, 'kernel': 'rbf'}\n",
      "54767.99053704408 {'C': 157055.10989448498, 'gamma': 0.26497040005002437, 'kernel': 'rbf'}\n",
      "70364.62759201857 {'C': 27652.464358739708, 'gamma': 0.2227358621286903, 'kernel': 'linear'}\n",
      "70356.39540691006 {'C': 171377.39570378003, 'gamma': 0.628789100540856, 'kernel': 'linear'}\n",
      "70375.01555171047 {'C': 5385.293820172355, 'gamma': 0.18696125197741642, 'kernel': 'linear'}\n",
      "118802.45486990902 {'C': 22.59903216621323, 'gamma': 2.850796878935603, 'kernel': 'rbf'}\n",
      "70362.64925487203 {'C': 34246.75194632794, 'gamma': 0.3632878599687583, 'kernel': 'linear'}\n",
      "100450.11515642727 {'C': 167.7278956080511, 'gamma': 0.2757870542258224, 'kernel': 'rbf'}\n",
      "72624.9057899841 {'C': 61.54360542501371, 'gamma': 0.6835472281341501, 'kernel': 'linear'}\n",
      "111159.49039259441 {'C': 98.73897389920914, 'gamma': 0.4960365360493639, 'kernel': 'rbf'}\n",
      "63169.91121371882 {'C': 8935.505635947808, 'gamma': 0.37354658165762367, 'kernel': 'rbf'}\n",
      "71258.43458681507 {'C': 135.76775824842434, 'gamma': 0.838636245624803, 'kernel': 'linear'}\n",
      "62838.44030730034 {'C': 151136.20282548846, 'gamma': 1.4922453771381408, 'kernel': 'rbf'}\n",
      "70478.74518220195 {'C': 761.4316758498783, 'gamma': 2.6126336514161914, 'kernel': 'linear'}\n",
      "70352.57824786112 {'C': 97392.81883041795, 'gamma': 0.09265545895311562, 'kernel': 'linear'}\n",
      "70403.18836315197 {'C': 2423.0759984939164, 'gamma': 3.248614270240346, 'kernel': 'linear'}\n",
      "70476.32626397279 {'C': 717.3632997255095, 'gamma': 0.3165604432088257, 'kernel': 'linear'}\n",
      "106956.6805790404 {'C': 4446.667521184072, 'gamma': 3.3597284456608496, 'kernel': 'rbf'}\n",
      "70395.33909643602 {'C': 2963.564121207815, 'gamma': 0.15189814782062885, 'kernel': 'linear'}\n",
      "71759.205885874 {'C': 91.64267381686706, 'gamma': 0.01575994483585621, 'kernel': 'linear'}\n",
      "57812.86159454261 {'C': 24547.601975705915, 'gamma': 0.22153944050588595, 'kernel': 'rbf'}\n",
      "114677.34539104624 {'C': 22.76927941060928, 'gamma': 0.22169760231351215, 'kernel': 'rbf'}\n",
      "70370.82854484518 {'C': 16483.850529752886, 'gamma': 1.4752145260435134, 'kernel': 'linear'}\n",
      "60052.282031071525 {'C': 101445.66881340064, 'gamma': 1.052904084582266, 'kernel': 'rbf'}\n",
      "61481.2571562533 {'C': 56681.80859029545, 'gamma': 0.9763011917123741, 'kernel': 'rbf'}\n",
      "114571.05278849285 {'C': 48.15822390928914, 'gamma': 0.4633351167983427, 'kernel': 'rbf'}\n",
      "111660.5387907517 {'C': 399.7268155705774, 'gamma': 1.3078757839577408, 'kernel': 'rbf'}\n",
      "70769.4555205942 {'C': 251.14073886281363, 'gamma': 0.8238105204914145, 'kernel': 'linear'}\n",
      "72677.17768919958 {'C': 60.17373642891687, 'gamma': 1.2491263443165994, 'kernel': 'linear'}\n",
      "59278.461054470405 {'C': 15415.161544891856, 'gamma': 0.2691677514619319, 'kernel': 'rbf'}\n",
      "70408.77485918507 {'C': 1888.9148509967113, 'gamma': 0.739678838777267, 'kernel': 'linear'}\n",
      "72902.89674607106 {'C': 55.53838911232773, 'gamma': 0.578634378499143, 'kernel': 'linear'}\n",
      "118062.2229280063 {'C': 26.714480823948186, 'gamma': 1.0117295509275495, 'kernel': 'rbf'}\n",
      "70387.01569813016 {'C': 3582.0552780489566, 'gamma': 1.1891370222133257, 'kernel': 'linear'}\n",
      "70919.00721842967 {'C': 198.7004781812736, 'gamma': 0.5282819748826726, 'kernel': 'linear'}\n",
      "71312.81192676058 {'C': 129.8000604143307, 'gamma': 2.8621383676481322, 'kernel': 'linear'}\n",
      "89483.60589120985 {'C': 288.4269299593897, 'gamma': 0.17580835850006285, 'kernel': 'rbf'}\n",
      "70378.53008434901 {'C': 6287.039489427172, 'gamma': 0.3504567255332862, 'kernel': 'linear'}\n",
      "68027.91547108642 {'C': 61217.04421344494, 'gamma': 1.6279689407405564, 'kernel': 'rbf'}\n",
      "111760.8070409793 {'C': 926.9787684096649, 'gamma': 2.147979593060577, 'kernel': 'rbf'}\n",
      "70362.72620414906 {'C': 33946.157064934, 'gamma': 2.2642426492862313, 'kernel': 'linear'}\n",
      "70352.90095432407 {'C': 84789.82947739525, 'gamma': 0.3176359085304841, 'kernel': 'linear'}\n"
     ]
    }
   ],
   "source": [
    "mse = -(random_search.best_score_)\n",
    "rmse = np.sqrt(mse)\n",
    "print(\"Best SVR predictor's performance: \", rmse, '\\n')\n",
    "cvres = random_search.cv_results_\n",
    "for mean_score, params in zip(cvres[\"mean_test_score\"], cvres[\"params\"]):\n",
    "    print(np.sqrt(-mean_score), params)"
   ]
  },
  {
   "cell_type": "markdown",
   "metadata": {},
   "source": [
    "The final RMSE value was 47730.22690385927 so in comparison this is much worse"
   ]
  },
  {
   "cell_type": "markdown",
   "metadata": {},
   "source": [
    "**3.** Try adding a transformer in the preparation pipeline to select only the most important attributes. "
   ]
  },
  {
   "cell_type": "code",
   "execution_count": null,
   "metadata": {},
   "outputs": [],
   "source": []
  }
 ],
 "metadata": {
  "kernelspec": {
   "display_name": "Python 3",
   "language": "python",
   "name": "python3"
  },
  "widgets": {
   "application/vnd.jupyter.widget-state+json": {
    "state": {},
    "version_major": 2,
    "version_minor": 0
   }
  }
 },
 "nbformat": 4,
 "nbformat_minor": 4
}
